{
 "cells": [
  {
   "cell_type": "markdown",
   "metadata": {},
   "source": [
    "Google colaboratory section"
   ]
  },
  {
   "cell_type": "code",
   "execution_count": null,
   "metadata": {},
   "outputs": [],
   "source": [
    "!pip install -U -q PyDrive\n",
    "!pip install -q keras\n",
    "!pip install -q h5py\n",
    "\n",
    "import os\n",
    "import zipfile\n",
    "from pydrive.auth import GoogleAuth\n",
    "from pydrive.drive import GoogleDrive\n",
    "from google.colab import auth\n",
    "from oauth2client.client import GoogleCredentials\n",
    "\n",
    "# 1. Authenticate and create the PyDrive client.\n",
    "auth.authenticate_user()\n",
    "gauth = GoogleAuth()\n",
    "gauth.credentials = GoogleCredentials.get_application_default()\n",
    "drive = GoogleDrive(gauth)\n",
    "\n",
    "# choose a local (colab) directory to store the data.\n",
    "local_download_path = os.path.expanduser('~/downloads')\n",
    "local_data_path = os.path.expanduser('.')\n",
    "\n",
    "try:\n",
    "    os.makedirs(local_download_path)\n",
    "except:\n",
    "    pass\n",
    "\n",
    "file_list = drive.ListFile({'q': \"'18RLYIAjzk_K8MnWkmfhsG73297wtdDVH' in parents and trashed=false\"}).GetList()\n",
    "\n",
    "for f in file_list:\n",
    "    # 3. Create & download by id.\n",
    "    print('title: %s, id: %s' % (f['title'], f['id']))\n",
    "    fname = os.path.join(local_download_path, f['title'])\n",
    "    print('downloading to {}'.format(fname))\n",
    "    f_ = drive.CreateFile({'id': f['id']})\n",
    "    f_.GetContentFile(fname)\n",
    "\n",
    "zip_ref = zipfile.ZipFile('%s/%s' % (local_download_path, 'data.zip'), 'r')\n",
    "zip_ref.extractall(local_data_path)\n",
    "zip_ref.close()\n",
    "print('Google colab init done...')"
   ]
  },
  {
   "cell_type": "code",
   "execution_count": null,
   "metadata": {},
   "outputs": [],
   "source": [
    "python3 foodai/foodai.py"
   ]
  },
  {
   "cell_type": "markdown",
   "metadata": {},
   "source": []
  }
 ],
 "metadata": {},
 "nbformat": 4,
 "nbformat_minor": 0
}
