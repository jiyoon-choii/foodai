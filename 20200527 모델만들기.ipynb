{
 "cells": [
  {
   "cell_type": "markdown",
   "metadata": {},
   "source": [
    "## 협업필터링, 상관분석 \n",
    "- 호/불호 로만 갈릴 때 사용 "
   ]
  },
  {
   "cell_type": "code",
   "execution_count": null,
   "metadata": {},
   "outputs": [],
   "source": [
    "# 참고 : https://dlsdn73.tistory.com/649"
   ]
  },
  {
   "cell_type": "code",
   "execution_count": 1,
   "metadata": {},
   "outputs": [],
   "source": [
    "import pandas as pd\n",
    "final = pd.read_csv('./data/jinjaru.csv')\n",
    "final = final.drop(['Unnamed: 0'],axis=1)"
   ]
  },
  {
   "cell_type": "code",
   "execution_count": 40,
   "metadata": {
    "scrolled": false
   },
   "outputs": [
    {
     "data": {
      "text/html": [
       "<div>\n",
       "<style scoped>\n",
       "    .dataframe tbody tr th:only-of-type {\n",
       "        vertical-align: middle;\n",
       "    }\n",
       "\n",
       "    .dataframe tbody tr th {\n",
       "        vertical-align: top;\n",
       "    }\n",
       "\n",
       "    .dataframe thead th {\n",
       "        text-align: right;\n",
       "    }\n",
       "</style>\n",
       "<table border=\"1\" class=\"dataframe\">\n",
       "  <thead>\n",
       "    <tr style=\"text-align: right;\">\n",
       "      <th></th>\n",
       "      <th>user_name</th>\n",
       "      <th>res_name</th>\n",
       "      <th>rating</th>\n",
       "      <th>review</th>\n",
       "      <th>menu</th>\n",
       "      <th>PN</th>\n",
       "      <th>spicy</th>\n",
       "      <th>sweet</th>\n",
       "      <th>sour</th>\n",
       "      <th>saulty</th>\n",
       "      <th>mild</th>\n",
       "      <th>normal</th>\n",
       "      <th>for_vegitarian</th>\n",
       "      <th>for_mania</th>\n",
       "      <th>for_starter</th>\n",
       "    </tr>\n",
       "  </thead>\n",
       "  <tbody>\n",
       "    <tr>\n",
       "      <th>0</th>\n",
       "      <td>KgQnRvsPSrJJTOCp-reYZA</td>\n",
       "      <td>Seoul Garden Korean Restaurant</td>\n",
       "      <td>5</td>\n",
       "      <td>we have been here three times now and have lov...</td>\n",
       "      <td>['bulgogi', 'galbigui', 'kimchijjigae', 'doenj...</td>\n",
       "      <td>0</td>\n",
       "      <td>1</td>\n",
       "      <td>0</td>\n",
       "      <td>0</td>\n",
       "      <td>1</td>\n",
       "      <td>0</td>\n",
       "      <td>0</td>\n",
       "      <td>1</td>\n",
       "      <td>1</td>\n",
       "      <td>1</td>\n",
       "    </tr>\n",
       "    <tr>\n",
       "      <th>1</th>\n",
       "      <td>1goJa-4OKwc--vlISRm54g</td>\n",
       "      <td>Seoul Garden Korean Restaurant</td>\n",
       "      <td>5</td>\n",
       "      <td>seoul garden was excellent.  we moved to this ...</td>\n",
       "      <td>['bulgogi', 'galbigui', 'kimchijjigae', 'doenj...</td>\n",
       "      <td>1</td>\n",
       "      <td>0</td>\n",
       "      <td>0</td>\n",
       "      <td>0</td>\n",
       "      <td>0</td>\n",
       "      <td>0</td>\n",
       "      <td>0</td>\n",
       "      <td>0</td>\n",
       "      <td>1</td>\n",
       "      <td>1</td>\n",
       "    </tr>\n",
       "  </tbody>\n",
       "</table>\n",
       "</div>"
      ],
      "text/plain": [
       "                user_name                        res_name  rating  \\\n",
       "0  KgQnRvsPSrJJTOCp-reYZA  Seoul Garden Korean Restaurant       5   \n",
       "1  1goJa-4OKwc--vlISRm54g  Seoul Garden Korean Restaurant       5   \n",
       "\n",
       "                                              review  \\\n",
       "0  we have been here three times now and have lov...   \n",
       "1  seoul garden was excellent.  we moved to this ...   \n",
       "\n",
       "                                                menu  PN  spicy  sweet  sour  \\\n",
       "0  ['bulgogi', 'galbigui', 'kimchijjigae', 'doenj...   0      1      0     0   \n",
       "1  ['bulgogi', 'galbigui', 'kimchijjigae', 'doenj...   1      0      0     0   \n",
       "\n",
       "   saulty  mild  normal  for_vegitarian  for_mania  for_starter  \n",
       "0       1     0       0               1          1            1  \n",
       "1       0     0       0               0          1            1  "
      ]
     },
     "execution_count": 40,
     "metadata": {},
     "output_type": "execute_result"
    }
   ],
   "source": [
    "final.head(2)"
   ]
  },
  {
   "cell_type": "markdown",
   "metadata": {},
   "source": [
    "- 파일 불러오고나서 이 코드 한번은 실행해주기~"
   ]
  },
  {
   "cell_type": "code",
   "execution_count": 2,
   "metadata": {},
   "outputs": [],
   "source": [
    "final['menu'] = final['menu'].apply( eval )"
   ]
  },
  {
   "cell_type": "code",
   "execution_count": 42,
   "metadata": {},
   "outputs": [
    {
     "data": {
      "text/plain": [
       "list"
      ]
     },
     "execution_count": 42,
     "metadata": {},
     "output_type": "execute_result"
    }
   ],
   "source": [
    "type(final['menu'][0])"
   ]
  },
  {
   "cell_type": "markdown",
   "metadata": {},
   "source": [
    "- 리뷰 값에서 특정 메뉴,표현 함께 뽑아내기(세밀화)"
   ]
  },
  {
   "cell_type": "code",
   "execution_count": 5,
   "metadata": {},
   "outputs": [],
   "source": [
    "food_eng = ['galbigui',\n",
    " 'galchigui',\n",
    " 'godeungeogui',\n",
    " 'gopchanggui',\n",
    " 'dakgalbi',\n",
    " 'deodeokgui',\n",
    " 'tteokgalbi',\n",
    " 'bulgogi',\n",
    " 'samgyeopsal',\n",
    " 'jangeogui',\n",
    " 'jogaegui',\n",
    " 'jogigui',\n",
    " 'hwangtaegui',\n",
    " 'hunjeori',\n",
    " 'gyelangug',\n",
    " 'tteokguk-mandutguk',\n",
    " 'muguk',\n",
    " 'miyeokguk',\n",
    " 'bugeotguk',\n",
    " 'siraegiguk',\n",
    " 'yukgaejang',\n",
    " 'kongnamulguk',\n",
    " 'gwamegi',\n",
    " 'yangnyeomchicken',\n",
    " 'jeotgal',\n",
    " 'kongjaban',\n",
    " 'pyeonyuk',\n",
    " 'pizza',\n",
    " 'friedchicken',\n",
    " 'gatkimchi',\n",
    " 'kkakdugi',\n",
    " 'nabakkimchi',\n",
    " 'musaengchae',\n",
    " 'baechukimchi',\n",
    " 'baekkimchi',\n",
    " 'buchukimchi',\n",
    " 'yeolmukimchi',\n",
    " 'oisobagi',\n",
    " 'chonggakkimchi',\n",
    " 'pakimchi',\n",
    " 'gajibokkeum',\n",
    " 'gosarinamul',\n",
    " 'miyeokjulgibokkeum',\n",
    " 'sukjunamul',\n",
    " 'sigeumchinamul',\n",
    " 'aehobakbokkeum',\n",
    " 'gyeongdan',\n",
    " 'kkultteok',\n",
    " 'songpyeon',\n",
    " 'mandu',\n",
    " 'ramyeon',\n",
    " 'makguksu',\n",
    " 'mulnaengmyeon',\n",
    " 'bibimnaengmyeon',\n",
    " 'sujebi',\n",
    " 'yeolmuguksu',\n",
    " 'janchiguksu',\n",
    " 'jajangmyeon',\n",
    " 'jjamppong',\n",
    " 'jjolmyeon',\n",
    " 'kalguksu',\n",
    " 'kongguksu',\n",
    " 'kkwaligochumuchim',\n",
    " 'dorajimuchim',\n",
    " 'dotorimuk',\n",
    " 'japchae',\n",
    " 'kongnamulmuchim',\n",
    " 'hongeomuchim',\n",
    " 'hoemuchim',\n",
    " 'gimbap',\n",
    " 'kimchibokkeumbap',\n",
    " 'nurungji',\n",
    " 'bibimbap',\n",
    " 'saeubokkeumbap',\n",
    " 'albap',\n",
    " 'yubuchobap',\n",
    " 'japgokbap',\n",
    " 'jumeokbap',\n",
    " 'gamjachaebokkeum',\n",
    " 'geonsaeubokkeum',\n",
    " 'gochujangjinmichaebokkeum',\n",
    " 'dubukimchi',\n",
    " 'tteokbokki',\n",
    " 'rabokki',\n",
    " 'myeolchibokkeum',\n",
    " 'sausagebokkeum',\n",
    " 'eomukbokkeum',\n",
    " 'ojingeochaebokkeum',\n",
    " 'jeyukbokkeum',\n",
    " 'jukkumibokkeum',\n",
    " 'bossam',\n",
    " 'sujeonggwa',\n",
    " 'sikhye',\n",
    " 'ganjanggejang',\n",
    " 'yangnyeomgejang',\n",
    " 'kkaesipjangajji',\n",
    " 'tteokkkochi',\n",
    " 'gamjajeon',\n",
    " 'gyeranmari',\n",
    " 'gyeranfry',\n",
    " 'kimchijeon',\n",
    " 'dongeurangttaeng',\n",
    " 'saengseonjeon',\n",
    " 'pajeon',\n",
    " 'hobakjeon',\n",
    " 'gopchangjeongol',\n",
    " 'galchijorim',\n",
    " 'gamjajorim',\n",
    " 'godeungeojorim',\n",
    " 'kkongchijorim',\n",
    " 'dubujorim',\n",
    " 'ttangkongjorim',\n",
    " 'mechurialjangjorim',\n",
    " 'yeongeunjorim',\n",
    " 'ueongjorim',\n",
    " 'jangjorim',\n",
    " 'kodarijorim',\n",
    " 'jeonbokjuk',\n",
    " 'hobakjuk',\n",
    " 'kimchijjigae',\n",
    " 'dakgyejang',\n",
    " 'dongtaejjigae',\n",
    " 'doenjangjjigae',\n",
    " 'sundubujjigae',\n",
    " 'galbijjim',\n",
    " 'gyeranjjim',\n",
    " 'kimchijjim',\n",
    " 'kkomakjjim',\n",
    " 'dakbokkeumtang',\n",
    " 'suyuk',\n",
    " 'sundae',\n",
    " 'jokbal',\n",
    " 'jjimdak',\n",
    " 'haemuljjim',\n",
    " 'galbitang',\n",
    " 'gamjatang',\n",
    " 'gomguk-seolleongtang',\n",
    " 'maeuntang',\n",
    " 'samgyetang',\n",
    " 'chueotang',\n",
    " 'gochutwigim',\n",
    " 'saeutwigim',\n",
    " 'ojingeotwigim',\n",
    " 'yakgwa',\n",
    " 'yaksik',\n",
    " 'hangwa',\n",
    " 'meongge',\n",
    " 'sannakji',\n",
    " 'mulhoe',\n",
    " 'yukhoe']"
   ]
  },
  {
   "cell_type": "code",
   "execution_count": 6,
   "metadata": {},
   "outputs": [],
   "source": [
    "taste = ['PN', 'spicy',\n",
    "       'sweet', 'sour', 'saulty', 'mild', 'normal', 'for_vegitarian',\n",
    "       'for_mania', 'for_starter']"
   ]
  },
  {
   "cell_type": "code",
   "execution_count": 21,
   "metadata": {},
   "outputs": [
    {
     "data": {
      "text/plain": [
       "list"
      ]
     },
     "execution_count": 21,
     "metadata": {},
     "output_type": "execute_result"
    }
   ],
   "source": [
    "food_eng\n",
    "type(food_eng)"
   ]
  },
  {
   "cell_type": "code",
   "execution_count": 22,
   "metadata": {},
   "outputs": [
    {
     "data": {
      "text/plain": [
       "list"
      ]
     },
     "execution_count": 22,
     "metadata": {},
     "output_type": "execute_result"
    }
   ],
   "source": [
    "type(taste) "
   ]
  },
  {
   "cell_type": "code",
   "execution_count": 34,
   "metadata": {},
   "outputs": [],
   "source": [
    "import re \n",
    "\n",
    "for food_name in food_eng : \n",
    "    for food_taste in taste :\n",
    "        for idx,value in enumerate(final['review']) :\n",
    "            str1 = final['review'][idx]\n",
    "            str2 = 'food_name'+'food_taste'\n",
    "            a = str1.find(str2)\n",
    "            while str1[a+1:].find(str2) != -1:\n",
    "                a = str1[a+1:].find(str2) + a + 1\n",
    "                \n",
    "                if a in re.finditer(str2,str1) :\n",
    "                    print(a.start())"
   ]
  },
  {
   "cell_type": "code",
   "execution_count": null,
   "metadata": {},
   "outputs": [],
   "source": [
    "a = str1.find(str2)\n",
    "print a\n",
    "while str1[a+1:].find(str2) != -1:\n",
    "    a = str1[a+1:].find(str2) + a + 1\n",
    "    print a"
   ]
  },
  {
   "cell_type": "code",
   "execution_count": 30,
   "metadata": {},
   "outputs": [
    {
     "name": "stdout",
     "output_type": "stream",
     "text": [
      "0 we have been here three times now and have loved it each time. it doesn't look like much outside but do not let that stop you from going in. parking can be scarce!\r\n",
      "\r\n",
      "the dumplings are amazing, we love them so much we have ordered a second round. they are crispy and the dipping sauce pushes the flavor over the top. \r\n",
      "\r\n",
      "there is a great variety of banchan. honestly, sometimes i have no clue what i am eating exactly but it tastes so good i do not even care. the kimchi is fresh and well flavored.  the fish banchan is one of our favorites as well as the potato. \r\n",
      "\r\n",
      "we have tried the bbq beef, the beef ribs and the pork belly. we wanted to try the octopus soup tonight but the server said that it was very spicy and my husband can not even handle the kimchi so we opted not. \r\n",
      "\r\n",
      "i love soy bean paste to dip in...you have to ask for it...try it out. it is salty and complex.\n"
     ]
    },
    {
     "ename": "TypeError",
     "evalue": "unsupported operand type(s) for &: 'str' and 'str'",
     "output_type": "error",
     "traceback": [
      "\u001b[0;31m---------------------------------------------------------------------------\u001b[0m",
      "\u001b[0;31mTypeError\u001b[0m                                 Traceback (most recent call last)",
      "\u001b[0;32m<ipython-input-30-cdc9e98cb600>\u001b[0m in \u001b[0;36m<module>\u001b[0;34m\u001b[0m\n\u001b[1;32m      7\u001b[0m \u001b[0;31m#             print('---3끝---')\u001b[0m\u001b[0;34m\u001b[0m\u001b[0;34m\u001b[0m\u001b[0;34m\u001b[0m\u001b[0m\n\u001b[1;32m      8\u001b[0m \u001b[0;31m#             print(type(food_taste))\u001b[0m\u001b[0;34m\u001b[0m\u001b[0;34m\u001b[0m\u001b[0;34m\u001b[0m\u001b[0m\n\u001b[0;32m----> 9\u001b[0;31m             \u001b[0;32mif\u001b[0m \u001b[0mfood_name\u001b[0m\u001b[0;34m&\u001b[0m\u001b[0mfood_taste\u001b[0m \u001b[0;32min\u001b[0m \u001b[0mlist\u001b[0m\u001b[0;34m(\u001b[0m\u001b[0mvalue\u001b[0m\u001b[0;34m)\u001b[0m \u001b[0;34m:\u001b[0m\u001b[0;34m\u001b[0m\u001b[0;34m\u001b[0m\u001b[0m\n\u001b[0m\u001b[1;32m     10\u001b[0m \u001b[0;31m#                 print('---4끝---')\u001b[0m\u001b[0;34m\u001b[0m\u001b[0;34m\u001b[0m\u001b[0;34m\u001b[0m\u001b[0m\n\u001b[1;32m     11\u001b[0m                 \u001b[0mprint\u001b[0m\u001b[0;34m(\u001b[0m\u001b[0midx\u001b[0m\u001b[0;34m)\u001b[0m\u001b[0;34m\u001b[0m\u001b[0;34m\u001b[0m\u001b[0m\n",
      "\u001b[0;31mTypeError\u001b[0m: unsupported operand type(s) for &: 'str' and 'str'"
     ]
    }
   ],
   "source": [
    "for food_name in food_eng : \n",
    "#     print(food_name)\n",
    "    for food_taste in taste :\n",
    "#         print(food_taste)\n",
    "        for idx,value in enumerate(final['review']) :\n",
    "            print(idx,value)\n",
    "#             print('---3끝---')\n",
    "#             print(type(food_taste))\n",
    "            if food_name&food_taste in list(value) :\n",
    "#                 print('---4끝---')\n",
    "                print(idx)\n"
   ]
  },
  {
   "cell_type": "code",
   "execution_count": null,
   "metadata": {},
   "outputs": [],
   "source": []
  },
  {
   "cell_type": "code",
   "execution_count": null,
   "metadata": {},
   "outputs": [],
   "source": []
  },
  {
   "cell_type": "code",
   "execution_count": null,
   "metadata": {},
   "outputs": [],
   "source": []
  },
  {
   "cell_type": "code",
   "execution_count": null,
   "metadata": {},
   "outputs": [],
   "source": []
  },
  {
   "cell_type": "code",
   "execution_count": null,
   "metadata": {},
   "outputs": [],
   "source": []
  },
  {
   "cell_type": "code",
   "execution_count": null,
   "metadata": {},
   "outputs": [],
   "source": []
  },
  {
   "cell_type": "code",
   "execution_count": null,
   "metadata": {},
   "outputs": [],
   "source": []
  },
  {
   "cell_type": "markdown",
   "metadata": {},
   "source": [
    "### 데이터 프레임을 딕셔너리로 만들기"
   ]
  },
  {
   "cell_type": "code",
   "execution_count": 43,
   "metadata": {},
   "outputs": [],
   "source": [
    "import json\n",
    "final.to_json(\"./data/all_data_final.json\",orient = \"records\")\n",
    "test = open(\"./data/all_data_final.json\").read()\n",
    "js = json.loads(test)"
   ]
  },
  {
   "cell_type": "code",
   "execution_count": 44,
   "metadata": {
    "scrolled": true
   },
   "outputs": [
    {
     "data": {
      "text/plain": [
       "{'user_name': 'KgQnRvsPSrJJTOCp-reYZA',\n",
       " 'res_name': 'Seoul Garden Korean Restaurant',\n",
       " 'rating': 5,\n",
       " 'review': \"we have been here three times now and have loved it each time. it doesn't look like much outside but do not let that stop you from going in. parking can be scarce!\\r\\n\\r\\nthe dumplings are amazing, we love them so much we have ordered a second round. they are crispy and the dipping sauce pushes the flavor over the top. \\r\\n\\r\\nthere is a great variety of banchan. honestly, sometimes i have no clue what i am eating exactly but it tastes so good i do not even care. the kimchi is fresh and well flavored.  the fish banchan is one of our favorites as well as the potato. \\r\\n\\r\\nwe have tried the bbq beef, the beef ribs and the pork belly. we wanted to try the octopus soup tonight but the server said that it was very spicy and my husband can not even handle the kimchi so we opted not. \\r\\n\\r\\ni love soy bean paste to dip in...you have to ask for it...try it out. it is salty and complex.\",\n",
       " 'menu': ['bulgogi',\n",
       "  'galbigui',\n",
       "  'kimchijjigae',\n",
       "  'doenjangjjigae',\n",
       "  'galbitang'],\n",
       " 'PN': 0,\n",
       " 'spicy': 1,\n",
       " 'sweet': 0,\n",
       " 'sour': 0,\n",
       " 'saulty': 1,\n",
       " 'mild': 0,\n",
       " 'normal': 0,\n",
       " 'for_vegitarian': 1,\n",
       " 'for_mania': 1,\n",
       " 'for_starter': 1}"
      ]
     },
     "execution_count": 44,
     "metadata": {},
     "output_type": "execute_result"
    }
   ],
   "source": [
    "js[0]"
   ]
  },
  {
   "cell_type": "code",
   "execution_count": null,
   "metadata": {},
   "outputs": [],
   "source": [
    "js_dict = dict() \n",
    "for key, inner_key in zip()"
   ]
  },
  {
   "cell_type": "code",
   "execution_count": 55,
   "metadata": {},
   "outputs": [
    {
     "data": {
      "text/html": [
       "<div>\n",
       "<style scoped>\n",
       "    .dataframe tbody tr th:only-of-type {\n",
       "        vertical-align: middle;\n",
       "    }\n",
       "\n",
       "    .dataframe tbody tr th {\n",
       "        vertical-align: top;\n",
       "    }\n",
       "\n",
       "    .dataframe thead th {\n",
       "        text-align: right;\n",
       "    }\n",
       "</style>\n",
       "<table border=\"1\" class=\"dataframe\">\n",
       "  <thead>\n",
       "    <tr style=\"text-align: right;\">\n",
       "      <th></th>\n",
       "      <th>user_name</th>\n",
       "      <th>res_name</th>\n",
       "      <th>rating</th>\n",
       "      <th>review</th>\n",
       "      <th>menu</th>\n",
       "      <th>PN</th>\n",
       "      <th>spicy</th>\n",
       "      <th>sweet</th>\n",
       "      <th>sour</th>\n",
       "      <th>saulty</th>\n",
       "      <th>mild</th>\n",
       "      <th>normal</th>\n",
       "      <th>for_vegitarian</th>\n",
       "      <th>for_mania</th>\n",
       "      <th>for_starter</th>\n",
       "    </tr>\n",
       "  </thead>\n",
       "  <tbody>\n",
       "    <tr>\n",
       "      <th>0</th>\n",
       "      <td>KgQnRvsPSrJJTOCp-reYZA</td>\n",
       "      <td>Seoul Garden Korean Restaurant</td>\n",
       "      <td>5</td>\n",
       "      <td>we have been here three times now and have lov...</td>\n",
       "      <td>[bulgogi, galbigui, kimchijjigae, doenjangjjig...</td>\n",
       "      <td>0</td>\n",
       "      <td>1</td>\n",
       "      <td>0</td>\n",
       "      <td>0</td>\n",
       "      <td>1</td>\n",
       "      <td>0</td>\n",
       "      <td>0</td>\n",
       "      <td>1</td>\n",
       "      <td>1</td>\n",
       "      <td>1</td>\n",
       "    </tr>\n",
       "    <tr>\n",
       "      <th>1</th>\n",
       "      <td>1goJa-4OKwc--vlISRm54g</td>\n",
       "      <td>Seoul Garden Korean Restaurant</td>\n",
       "      <td>5</td>\n",
       "      <td>seoul garden was excellent.  we moved to this ...</td>\n",
       "      <td>[bulgogi, galbigui, kimchijjigae, doenjangjjig...</td>\n",
       "      <td>1</td>\n",
       "      <td>0</td>\n",
       "      <td>0</td>\n",
       "      <td>0</td>\n",
       "      <td>0</td>\n",
       "      <td>0</td>\n",
       "      <td>0</td>\n",
       "      <td>0</td>\n",
       "      <td>1</td>\n",
       "      <td>1</td>\n",
       "    </tr>\n",
       "  </tbody>\n",
       "</table>\n",
       "</div>"
      ],
      "text/plain": [
       "                user_name                        res_name  rating  \\\n",
       "0  KgQnRvsPSrJJTOCp-reYZA  Seoul Garden Korean Restaurant       5   \n",
       "1  1goJa-4OKwc--vlISRm54g  Seoul Garden Korean Restaurant       5   \n",
       "\n",
       "                                              review  \\\n",
       "0  we have been here three times now and have lov...   \n",
       "1  seoul garden was excellent.  we moved to this ...   \n",
       "\n",
       "                                                menu  PN  spicy  sweet  sour  \\\n",
       "0  [bulgogi, galbigui, kimchijjigae, doenjangjjig...   0      1      0     0   \n",
       "1  [bulgogi, galbigui, kimchijjigae, doenjangjjig...   1      0      0     0   \n",
       "\n",
       "   saulty  mild  normal  for_vegitarian  for_mania  for_starter  \n",
       "0       1     0       0               1          1            1  \n",
       "1       0     0       0               0          1            1  "
      ]
     },
     "execution_count": 55,
     "metadata": {},
     "output_type": "execute_result"
    }
   ],
   "source": [
    "final.head(2)"
   ]
  },
  {
   "cell_type": "code",
   "execution_count": 56,
   "metadata": {},
   "outputs": [
    {
     "data": {
      "text/plain": [
       "Index(['user_name', 'res_name', 'rating', 'review', 'menu', 'PN', 'spicy',\n",
       "       'sweet', 'sour', 'saulty', 'mild', 'normal', 'for_vegitarian',\n",
       "       'for_mania', 'for_starter'],\n",
       "      dtype='object')"
      ]
     },
     "execution_count": 56,
     "metadata": {},
     "output_type": "execute_result"
    }
   ],
   "source": [
    "final.columns"
   ]
  },
  {
   "cell_type": "code",
   "execution_count": 88,
   "metadata": {},
   "outputs": [],
   "source": [
    "menu_list = list(final['menu'])"
   ]
  },
  {
   "cell_type": "code",
   "execution_count": 98,
   "metadata": {},
   "outputs": [],
   "source": [
    "user_name = list(final['user_name']),\n",
    "# menu = list(final['menu']),\n",
    "pn = list(final['PN']),\n",
    "spicy = list(final['spicy']),\n",
    "sweet = list(final['sweet']),\n",
    "sour = list(final['sour']),\n",
    "saulty = list(final['saulty']),\n",
    "mild = list(final['mild']),\n",
    "normal = list(final['normal']),\n",
    "for_vegitarian = list(final['for_vegitarian']),\n",
    "for_mania = list(final['for_mania']),\n",
    "for_starter = list(final['for_starter'])"
   ]
  },
  {
   "cell_type": "code",
   "execution_count": 102,
   "metadata": {},
   "outputs": [],
   "source": [
    "end_please = final[['PN', 'spicy',\n",
    "       'sweet', 'sour', 'saulty', 'mild', 'normal', 'for_vegitarian',\n",
    "       'for_mania', 'for_starter']]"
   ]
  },
  {
   "cell_type": "code",
   "execution_count": 164,
   "metadata": {},
   "outputs": [
    {
     "data": {
      "text/html": [
       "<div>\n",
       "<style scoped>\n",
       "    .dataframe tbody tr th:only-of-type {\n",
       "        vertical-align: middle;\n",
       "    }\n",
       "\n",
       "    .dataframe tbody tr th {\n",
       "        vertical-align: top;\n",
       "    }\n",
       "\n",
       "    .dataframe thead th {\n",
       "        text-align: right;\n",
       "    }\n",
       "</style>\n",
       "<table border=\"1\" class=\"dataframe\">\n",
       "  <thead>\n",
       "    <tr style=\"text-align: right;\">\n",
       "      <th></th>\n",
       "      <th>PN</th>\n",
       "      <th>spicy</th>\n",
       "      <th>sweet</th>\n",
       "      <th>sour</th>\n",
       "      <th>saulty</th>\n",
       "      <th>mild</th>\n",
       "      <th>normal</th>\n",
       "      <th>for_vegitarian</th>\n",
       "      <th>for_mania</th>\n",
       "      <th>for_starter</th>\n",
       "    </tr>\n",
       "  </thead>\n",
       "  <tbody>\n",
       "    <tr>\n",
       "      <th>0</th>\n",
       "      <td>0</td>\n",
       "      <td>1</td>\n",
       "      <td>0</td>\n",
       "      <td>0</td>\n",
       "      <td>1</td>\n",
       "      <td>0</td>\n",
       "      <td>0</td>\n",
       "      <td>1</td>\n",
       "      <td>1</td>\n",
       "      <td>1</td>\n",
       "    </tr>\n",
       "    <tr>\n",
       "      <th>1</th>\n",
       "      <td>1</td>\n",
       "      <td>0</td>\n",
       "      <td>0</td>\n",
       "      <td>0</td>\n",
       "      <td>0</td>\n",
       "      <td>0</td>\n",
       "      <td>0</td>\n",
       "      <td>0</td>\n",
       "      <td>1</td>\n",
       "      <td>1</td>\n",
       "    </tr>\n",
       "    <tr>\n",
       "      <th>2</th>\n",
       "      <td>1</td>\n",
       "      <td>0</td>\n",
       "      <td>0</td>\n",
       "      <td>0</td>\n",
       "      <td>0</td>\n",
       "      <td>0</td>\n",
       "      <td>1</td>\n",
       "      <td>0</td>\n",
       "      <td>0</td>\n",
       "      <td>0</td>\n",
       "    </tr>\n",
       "    <tr>\n",
       "      <th>3</th>\n",
       "      <td>1</td>\n",
       "      <td>0</td>\n",
       "      <td>0</td>\n",
       "      <td>0</td>\n",
       "      <td>0</td>\n",
       "      <td>0</td>\n",
       "      <td>0</td>\n",
       "      <td>0</td>\n",
       "      <td>1</td>\n",
       "      <td>1</td>\n",
       "    </tr>\n",
       "    <tr>\n",
       "      <th>4</th>\n",
       "      <td>0</td>\n",
       "      <td>1</td>\n",
       "      <td>0</td>\n",
       "      <td>0</td>\n",
       "      <td>0</td>\n",
       "      <td>1</td>\n",
       "      <td>0</td>\n",
       "      <td>0</td>\n",
       "      <td>0</td>\n",
       "      <td>0</td>\n",
       "    </tr>\n",
       "    <tr>\n",
       "      <th>5</th>\n",
       "      <td>1</td>\n",
       "      <td>0</td>\n",
       "      <td>0</td>\n",
       "      <td>0</td>\n",
       "      <td>0</td>\n",
       "      <td>0</td>\n",
       "      <td>0</td>\n",
       "      <td>0</td>\n",
       "      <td>1</td>\n",
       "      <td>0</td>\n",
       "    </tr>\n",
       "    <tr>\n",
       "      <th>6</th>\n",
       "      <td>1</td>\n",
       "      <td>1</td>\n",
       "      <td>0</td>\n",
       "      <td>0</td>\n",
       "      <td>1</td>\n",
       "      <td>0</td>\n",
       "      <td>0</td>\n",
       "      <td>0</td>\n",
       "      <td>1</td>\n",
       "      <td>1</td>\n",
       "    </tr>\n",
       "    <tr>\n",
       "      <th>7</th>\n",
       "      <td>0</td>\n",
       "      <td>0</td>\n",
       "      <td>0</td>\n",
       "      <td>0</td>\n",
       "      <td>0</td>\n",
       "      <td>0</td>\n",
       "      <td>0</td>\n",
       "      <td>0</td>\n",
       "      <td>1</td>\n",
       "      <td>1</td>\n",
       "    </tr>\n",
       "    <tr>\n",
       "      <th>8</th>\n",
       "      <td>1</td>\n",
       "      <td>0</td>\n",
       "      <td>0</td>\n",
       "      <td>0</td>\n",
       "      <td>0</td>\n",
       "      <td>0</td>\n",
       "      <td>0</td>\n",
       "      <td>0</td>\n",
       "      <td>1</td>\n",
       "      <td>1</td>\n",
       "    </tr>\n",
       "    <tr>\n",
       "      <th>9</th>\n",
       "      <td>0</td>\n",
       "      <td>0</td>\n",
       "      <td>0</td>\n",
       "      <td>0</td>\n",
       "      <td>0</td>\n",
       "      <td>0</td>\n",
       "      <td>0</td>\n",
       "      <td>1</td>\n",
       "      <td>1</td>\n",
       "      <td>1</td>\n",
       "    </tr>\n",
       "  </tbody>\n",
       "</table>\n",
       "</div>"
      ],
      "text/plain": [
       "   PN  spicy  sweet  sour  saulty  mild  normal  for_vegitarian  for_mania  \\\n",
       "0   0      1      0     0       1     0       0               1          1   \n",
       "1   1      0      0     0       0     0       0               0          1   \n",
       "2   1      0      0     0       0     0       1               0          0   \n",
       "3   1      0      0     0       0     0       0               0          1   \n",
       "4   0      1      0     0       0     1       0               0          0   \n",
       "5   1      0      0     0       0     0       0               0          1   \n",
       "6   1      1      0     0       1     0       0               0          1   \n",
       "7   0      0      0     0       0     0       0               0          1   \n",
       "8   1      0      0     0       0     0       0               0          1   \n",
       "9   0      0      0     0       0     0       0               1          1   \n",
       "\n",
       "   for_starter  \n",
       "0            1  \n",
       "1            1  \n",
       "2            0  \n",
       "3            1  \n",
       "4            0  \n",
       "5            0  \n",
       "6            1  \n",
       "7            1  \n",
       "8            1  \n",
       "9            1  "
      ]
     },
     "execution_count": 164,
     "metadata": {},
     "output_type": "execute_result"
    }
   ],
   "source": [
    "end_please.head(10)"
   ]
  },
  {
   "cell_type": "code",
   "execution_count": 101,
   "metadata": {},
   "outputs": [],
   "source": [
    "small_menu = ['PN', 'spicy',\n",
    "       'sweet', 'sour', 'saulty', 'mild', 'normal', 'for_vegitarian',\n",
    "       'for_mania', 'for_starter']"
   ]
  },
  {
   "cell_type": "code",
   "execution_count": 169,
   "metadata": {},
   "outputs": [],
   "source": [
    "dic = {}\n",
    "\n",
    "for name in small_menu :\n",
    "    for idx in range(len(end_please['PN'])) :\n",
    "        dic[name] = end_please.iloc[idx] \n",
    "    break"
   ]
  },
  {
   "cell_type": "code",
   "execution_count": 172,
   "metadata": {},
   "outputs": [],
   "source": [
    "dic = dict()\n",
    "# for i in small_menu:\n",
    "#     for j in range(len(end_please['spicy'])):\n",
    "# #     print(i,j)\n",
    "#         dic = { i : end_please.iloc[j]}\n",
    "#     break"
   ]
  },
  {
   "cell_type": "code",
   "execution_count": 167,
   "metadata": {},
   "outputs": [
    {
     "data": {
      "text/plain": [
       "1"
      ]
     },
     "execution_count": 167,
     "metadata": {},
     "output_type": "execute_result"
    }
   ],
   "source": [
    "end_please['PN'].iloc[1]"
   ]
  },
  {
   "cell_type": "code",
   "execution_count": 189,
   "metadata": {
    "scrolled": true
   },
   "outputs": [
    {
     "name": "stderr",
     "output_type": "stream",
     "text": [
      "/home/team/anaconda3/lib/python3.7/site-packages/ipykernel_launcher.py:4: TqdmDeprecationWarning: This function will be removed in tqdm==5.0.0\n",
      "Please use `tqdm.notebook.tqdm` instead of `tqdm.tqdm_notebook`\n",
      "  after removing the cwd from sys.path.\n"
     ]
    },
    {
     "data": {
      "application/vnd.jupyter.widget-view+json": {
       "model_id": "30c59004ec624707bfa108eb6b73db56",
       "version_major": 2,
       "version_minor": 0
      },
      "text/plain": [
       "HBox(children=(FloatProgress(value=0.0, max=110913.0), HTML(value='')))"
      ]
     },
     "metadata": {},
     "output_type": "display_data"
    },
    {
     "ename": "KeyboardInterrupt",
     "evalue": "",
     "output_type": "error",
     "traceback": [
      "\u001b[0;31m---------------------------------------------------------------------------\u001b[0m",
      "\u001b[0;31mKeyboardInterrupt\u001b[0m                         Traceback (most recent call last)",
      "\u001b[0;32m<ipython-input-189-605e1f98fc61>\u001b[0m in \u001b[0;36m<module>\u001b[0;34m\u001b[0m\n\u001b[1;32m      6\u001b[0m         \u001b[0mdic\u001b[0m\u001b[0;34m[\u001b[0m\u001b[0mval\u001b[0m\u001b[0;34m]\u001b[0m \u001b[0;34m=\u001b[0m \u001b[0mend_please\u001b[0m\u001b[0;34m[\u001b[0m\u001b[0mval\u001b[0m\u001b[0;34m]\u001b[0m\u001b[0;34m.\u001b[0m\u001b[0miloc\u001b[0m\u001b[0;34m[\u001b[0m\u001b[0;36m0\u001b[0m\u001b[0;34m]\u001b[0m\u001b[0;34m\u001b[0m\u001b[0;34m\u001b[0m\u001b[0m\n\u001b[1;32m      7\u001b[0m         \u001b[0;32mfor\u001b[0m \u001b[0mi\u001b[0m \u001b[0;32min\u001b[0m \u001b[0mfinal\u001b[0m\u001b[0;34m[\u001b[0m\u001b[0;34m\"user_name\"\u001b[0m\u001b[0;34m]\u001b[0m\u001b[0;34m:\u001b[0m\u001b[0;34m\u001b[0m\u001b[0;34m\u001b[0m\u001b[0m\n\u001b[0;32m----> 8\u001b[0;31m             \u001b[0mmiddle_dic\u001b[0m\u001b[0;34m[\u001b[0m\u001b[0mi\u001b[0m\u001b[0;34m]\u001b[0m \u001b[0;34m=\u001b[0m \u001b[0mdic\u001b[0m\u001b[0;34m\u001b[0m\u001b[0;34m\u001b[0m\u001b[0m\n\u001b[0m\u001b[1;32m      9\u001b[0m \u001b[0;34m\u001b[0m\u001b[0m\n",
      "\u001b[0;31mKeyboardInterrupt\u001b[0m: "
     ]
    }
   ],
   "source": [
    "from tqdm import tqdm_notebook\n",
    "dic = dict()\n",
    "middle_dic = dict()\n",
    "for k in tqdm_notebook(range(len(end_please[\"PN\"]))):\n",
    "    for i,val in enumerate(small_menu):\n",
    "        dic[val] = end_please[val].iloc[0]\n",
    "        for i in final[\"user_name\"]:\n",
    "            middle_dic[i] = dic\n",
    "            "
   ]
  },
  {
   "cell_type": "code",
   "execution_count": 187,
   "metadata": {},
   "outputs": [
    {
     "data": {
      "text/plain": [
       "{'KgQnRvsPSrJJTOCp-reYZA': {'PN': 0,\n",
       "  'spicy': 1,\n",
       "  'sweet': 0,\n",
       "  'sour': 0,\n",
       "  'saulty': 1,\n",
       "  'mild': 0,\n",
       "  'normal': 0,\n",
       "  'for_vegitarian': 1,\n",
       "  'for_mania': 1,\n",
       "  'for_starter': 1}}"
      ]
     },
     "execution_count": 187,
     "metadata": {},
     "output_type": "execute_result"
    }
   ],
   "source": [
    "middle_dic "
   ]
  },
  {
   "cell_type": "code",
   "execution_count": null,
   "metadata": {},
   "outputs": [],
   "source": []
  },
  {
   "cell_type": "code",
   "execution_count": null,
   "metadata": {},
   "outputs": [],
   "source": [
    "with open('list.txt', 'rb') as f:\n",
    "    data = pickle.load(f) # 단 한줄씩 읽어옴"
   ]
  },
  {
   "cell_type": "code",
   "execution_count": null,
   "metadata": {},
   "outputs": [],
   "source": []
  },
  {
   "cell_type": "code",
   "execution_count": null,
   "metadata": {},
   "outputs": [],
   "source": []
  },
  {
   "cell_type": "code",
   "execution_count": null,
   "metadata": {},
   "outputs": [],
   "source": []
  },
  {
   "cell_type": "code",
   "execution_count": null,
   "metadata": {},
   "outputs": [],
   "source": []
  },
  {
   "cell_type": "code",
   "execution_count": null,
   "metadata": {},
   "outputs": [],
   "source": []
  },
  {
   "cell_type": "code",
   "execution_count": null,
   "metadata": {},
   "outputs": [],
   "source": [
    "# dic"
   ]
  },
  {
   "cell_type": "markdown",
   "metadata": {},
   "source": [
    "### 두명간의 상관계수 구하기"
   ]
  },
  {
   "cell_type": "code",
   "execution_count": 45,
   "metadata": {},
   "outputs": [],
   "source": [
    "def person(data, name1, name2) : # name : 맛 \n",
    "    sumX = 0 # X : name1의 맛 빈도 \n",
    "    sumY = 0 \n",
    "    sumPowX = 0 # X 제곱의 합\n",
    "    sumPowY = 0\n",
    "    sumXY = 0 # X*Y의 합 \n",
    "    count = 0\n",
    "    \n",
    "    for i in data[name1] : \n",
    "        if i in data[name2][i] : # 같은 음식 맛 평가했을 때 \n",
    "            sumY+=data[name2][i]\n",
    "            sumPowX+=pow(data[name1][i],2)\n",
    "            sumPowY+=pow(data[name2][i],2)\n",
    "            sumXY+=data[name1][i]*data[name2][i]\n",
    "            count+=1\n",
    "    \n",
    "    return ( sumXY- ((sumX*sumY)/count) )/ sqrt( (sumPowX - (pow(sumX,2) / count)) * (sumPowY - (pow(sumY,2)/count)))      "
   ]
  },
  {
   "cell_type": "code",
   "execution_count": null,
   "metadata": {},
   "outputs": [],
   "source": [
    "person(딕셔너리 이름, '유저 네임1','유저 네임2')"
   ]
  },
  {
   "cell_type": "code",
   "execution_count": null,
   "metadata": {},
   "outputs": [],
   "source": []
  },
  {
   "cell_type": "code",
   "execution_count": 48,
   "metadata": {},
   "outputs": [
    {
     "ename": "NameError",
     "evalue": "name 'spicy' is not defined",
     "output_type": "error",
     "traceback": [
      "\u001b[0;31m---------------------------------------------------------------------------\u001b[0m",
      "\u001b[0;31mNameError\u001b[0m                                 Traceback (most recent call last)",
      "\u001b[0;32m<ipython-input-48-a56c8835d8d5>\u001b[0m in \u001b[0;36m<module>\u001b[0;34m\u001b[0m\n\u001b[0;32m----> 1\u001b[0;31m \u001b[0mtaste_food\u001b[0m\u001b[0;34m(\u001b[0m\u001b[0mjs\u001b[0m\u001b[0;34m,\u001b[0m \u001b[0mspicy\u001b[0m\u001b[0;34m,\u001b[0m \u001b[0msalty\u001b[0m\u001b[0;34m)\u001b[0m\u001b[0;34m\u001b[0m\u001b[0;34m\u001b[0m\u001b[0m\n\u001b[0m",
      "\u001b[0;31mNameError\u001b[0m: name 'spicy' is not defined"
     ]
    }
   ],
   "source": [
    "taste_food(js, spicy, salty)"
   ]
  },
  {
   "cell_type": "markdown",
   "metadata": {},
   "source": [
    "### 전체 인원과의 상관계수 구하기"
   ]
  },
  {
   "cell_type": "code",
   "execution_count": null,
   "metadata": {},
   "outputs": [],
   "source": [
    "def food_top_match(js, name, index=3, taste_function =  taste_food) :\n",
    "    li = []\n",
    "    for i in data_food_dic : \n",
    "        if name != i :#자기 자신이 아닐 때만\n",
    "            li.append((taste_function(data,name,i),i)) # 상관계수 구하고 li에 추가\n",
    "    li.reverse() #내림차순 \n",
    "    return li[:index]"
   ]
  },
  {
   "cell_type": "code",
   "execution_count": null,
   "metadata": {},
   "outputs": [],
   "source": [
    "data_food_dic = {\n",
    "    '음식 이름' :\n",
    "        {'맛' : 빈도},\n",
    "    ...\n",
    "    }\n",
    "\n",
    "유저이름 , 영화이름 , 평점 \n",
    "a           백설공주   1\n",
    "b           아이언맨   5\n",
    "c           해운대     3.5\n",
    "d           사일런트힐 ? "
   ]
  },
  {
   "cell_type": "markdown",
   "metadata": {},
   "source": [
    "- 피어슨 상관계수 (-1 ~  1)"
   ]
  },
  {
   "cell_type": "code",
   "execution_count": 23,
   "metadata": {},
   "outputs": [
    {
     "data": {
      "text/plain": [
       "str"
      ]
     },
     "execution_count": 23,
     "metadata": {},
     "output_type": "execute_result"
    }
   ],
   "source": [
    "type(final['menu'][0])"
   ]
  },
  {
   "cell_type": "code",
   "execution_count": null,
   "metadata": {},
   "outputs": [],
   "source": [
    "# test\n",
    "taste_food(data_food_dict,'맛','음식 이름')"
   ]
  },
  {
   "cell_type": "code",
   "execution_count": null,
   "metadata": {},
   "outputs": [],
   "source": [
    "# test\n",
    "top_match(data_food_dic, '음식 이름','맛')"
   ]
  },
  {
   "cell_type": "code",
   "execution_count": null,
   "metadata": {},
   "outputs": [],
   "source": [
    "def getRecommendation (data,person,sim_function=sim_pearson):\n",
    "    result = top_match(critics, person ,len(data))\n",
    "    \n",
    "    simSum=0 # 유사도 합을 위한 변수\n",
    "    score=0 # 맛평가 합을 위한 변수\n",
    "    li=[] # 리턴을 위한 리스트\n",
    "    score_dic={} # 유사도 총합을 위한 dic\n",
    "    sim_dic={} # 맛평가 총합을 위한 dic\n",
    " \n",
    "    for sim,name in result: # 튜플이므로 한번에 \n",
    "        if sim<0 : continue #유사도가 양수인 사람만\n",
    "        for movie in data[name]: \n",
    "            if movie not in data[person]: #name이 평가를 내리지 않은 음식\n",
    "                score+=sim*data[name][movie] # 그사람의 맛 호/불호 * 유사도\n",
    "                score_dic.setdefault(movie,0) # 기본값 설정\n",
    "                score_dic[movie]+=score # 합계 구함\n",
    " \n",
    "                # 조건에 맞는 사람의 유사도의 누적합을 구한다\n",
    "                sim_dic.setdefault(movie,0) \n",
    "                sim_dic[movie]+=sim\n",
    " \n",
    "            score=0  #영화가 바뀌었으니 초기화한다\n",
    "    \n",
    "    for key in score_dic: \n",
    "        score_dic[key]=score_dic[key]/sim_dic[key] # 평점 총합/ 유사도 총합\n",
    "        li.append((score_dic[key],key)) # list((tuple))의 리턴을 위해서.\n",
    "    li.sort() #오름차순\n",
    "    li.reverse() #내림차순\n",
    "    return li\n"
   ]
  },
  {
   "cell_type": "code",
   "execution_count": null,
   "metadata": {},
   "outputs": [],
   "source": [
    "# test\n",
    "getRecommendation(data_food_dic, '사람')"
   ]
  },
  {
   "cell_type": "code",
   "execution_count": null,
   "metadata": {},
   "outputs": [],
   "source": []
  },
  {
   "cell_type": "code",
   "execution_count": null,
   "metadata": {},
   "outputs": [],
   "source": []
  }
 ],
 "metadata": {
  "kernelspec": {
   "display_name": "Python 3",
   "language": "python",
   "name": "python3"
  },
  "language_info": {
   "codemirror_mode": {
    "name": "ipython",
    "version": 3
   },
   "file_extension": ".py",
   "mimetype": "text/x-python",
   "name": "python",
   "nbconvert_exporter": "python",
   "pygments_lexer": "ipython3",
   "version": "3.7.6"
  }
 },
 "nbformat": 4,
 "nbformat_minor": 4
}
