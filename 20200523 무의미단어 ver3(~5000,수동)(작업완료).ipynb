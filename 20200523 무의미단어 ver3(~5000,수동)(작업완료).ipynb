{
 "cells": [
  {
   "cell_type": "markdown",
   "metadata": {},
   "source": [
    "stop2.csv -> :`5000"
   ]
  },
  {
   "cell_type": "code",
   "execution_count": 2,
   "metadata": {},
   "outputs": [],
   "source": [
    "stop3_1 = [\n",
    "    '.',',','to','is','it','the','!','aurant','so','at','be',')','one',\"'s\",'get',\n",
    "    'been','me','they','even','come','visit','lunch','bit','you','make','take','reason',\n",
    "    '’','aurants','very','2','``','feel','and','he','3',\"'re\",\"''\",'am','all','?','res',\n",
    "    '&','near',';','$','our','when','4','10','definitely','makes','felt','also','floor',\n",
    "    'extremely','meals','close','leave','music',\"'\",'what','trying','business', 'lady',\n",
    "   'just','6','room','that', 'she','offer','building','some','chose','restaurant','sing',\n",
    "    'getting','elf','20','--','their','won','30','..','15','swiches','offered','only',\n",
    "    '7','was','quiet','having', 'idea','self','both','then','note','oh','closed',\n",
    "    'provided','read','cut','store','pick','elevator','while','came','visited','its',\n",
    "    'leaving','station','met','sun','”','received','have','market','since','absolutely',\n",
    "    'litery','eye','behind','questions','establishm','cuts','provide','“','buy',\n",
    "    'wow', 'obviously','hang','talk','spoke','checking','wear'\n",
    "]\n"
   ]
  },
  {
   "cell_type": "markdown",
   "metadata": {},
   "source": [
    "## 문장 단위 "
   ]
  },
  {
   "cell_type": "markdown",
   "metadata": {},
   "source": [
    "- stop1.csv"
   ]
  },
  {
   "cell_type": "markdown",
   "metadata": {},
   "source": [
    "유의미"
   ]
  },
  {
   "cell_type": "code",
   "execution_count": null,
   "metadata": {},
   "outputs": [],
   "source": [
    "from_sentence : {\n",
    "    'season to taste' : '맛 볼 계절',\n",
    "    'to add  of   sauce','with a sauce','sizzling', : '싱겁다', \n",
    "    'marinated','dipped','marinades' : '졀여졌다',\n",
    "    \n",
    "    'sweet' : '달다',\n",
    "    'sweet as well as spicy',\n",
    "    \n",
    "    \n",
    "    \n",
    "    \n",
    "    \n",
    "    \n",
    "    \n",
    "    'cold','icy' : '차갑다',\n",
    "    'hot','sautéed','sizzling' : '뜨겁다',\n",
    "    'flavors','flavorful','seasoned','flavor','aromatic','tasteful',\n",
    "    'smelled amazing',\n",
    "    'full of flavor',\n",
    "    \n",
    "    \n",
    "    \n",
    "    \n",
    "    \n",
    "    \n",
    "    \n",
    "    \n",
    "    \n",
    "    : '향이 풍부하',\n",
    "    \n",
    "    'spicy','red','chilli' : '맵다',\n",
    "    'moist','juicy' : '촉촉하다',\n",
    "    'simple' : '단순하다'\n",
    "    'traditional','exotic', : '전통적','national  of Korean',\n",
    "    'crispy' : '바삭하다'\n",
    "    \n",
    "    'Fresh' : '싱싱하다 \n",
    "    'felt freshly'\n",
    "    \n",
    "    \n",
    "    \n",
    "    \n",
    "    \n",
    "    'saulty' : '짜다'\n",
    "    \n",
    "    }"
   ]
  },
  {
   "cell_type": "markdown",
   "metadata": {},
   "source": [
    "- 채식주의자"
   ]
  },
  {
   "cell_type": "code",
   "execution_count": null,
   "metadata": {},
   "outputs": [],
   "source": [
    "'vegetarian',"
   ]
  },
  {
   "cell_type": "markdown",
   "metadata": {},
   "source": [
    "- 음식 조리 "
   ]
  },
  {
   "cell_type": "code",
   "execution_count": null,
   "metadata": {},
   "outputs": [],
   "source": [
    "how_food = {\n",
    "    '튀겨진' : 'fried','fri\n",
    "    '구운' : ' burnt'\n",
    "}"
   ]
  },
  {
   "cell_type": "markdown",
   "metadata": {},
   "source": [
    "무의미"
   ]
  },
  {
   "cell_type": "code",
   "execution_count": null,
   "metadata": {},
   "outputs": [],
   "source": [
    "어렵다 : 'sticky','difficult '\n",
    "쉽다 : 'basicy','for  newcomers','pliful','Highly recomm',\n",
    "    'starters':' good selections of starters.'"
   ]
  },
  {
   "cell_type": "code",
   "execution_count": null,
   "metadata": {},
   "outputs": [],
   "source": []
  },
  {
   "cell_type": "code",
   "execution_count": null,
   "metadata": {},
   "outputs": [],
   "source": []
  },
  {
   "cell_type": "code",
   "execution_count": null,
   "metadata": {},
   "outputs": [],
   "source": []
  },
  {
   "cell_type": "code",
   "execution_count": null,
   "metadata": {},
   "outputs": [],
   "source": []
  },
  {
   "cell_type": "code",
   "execution_count": null,
   "metadata": {},
   "outputs": [],
   "source": []
  },
  {
   "cell_type": "code",
   "execution_count": null,
   "metadata": {},
   "outputs": [],
   "source": []
  },
  {
   "cell_type": "code",
   "execution_count": null,
   "metadata": {},
   "outputs": [],
   "source": []
  },
  {
   "cell_type": "code",
   "execution_count": null,
   "metadata": {},
   "outputs": [],
   "source": []
  },
  {
   "cell_type": "code",
   "execution_count": null,
   "metadata": {},
   "outputs": [],
   "source": []
  },
  {
   "cell_type": "code",
   "execution_count": null,
   "metadata": {},
   "outputs": [],
   "source": []
  },
  {
   "cell_type": "code",
   "execution_count": null,
   "metadata": {},
   "outputs": [],
   "source": []
  },
  {
   "cell_type": "code",
   "execution_count": null,
   "metadata": {},
   "outputs": [],
   "source": []
  },
  {
   "cell_type": "code",
   "execution_count": null,
   "metadata": {},
   "outputs": [],
   "source": []
  },
  {
   "cell_type": "code",
   "execution_count": null,
   "metadata": {},
   "outputs": [],
   "source": []
  },
  {
   "cell_type": "code",
   "execution_count": null,
   "metadata": {},
   "outputs": [],
   "source": []
  }
 ],
 "metadata": {
  "kernelspec": {
   "display_name": "Python 3",
   "language": "python",
   "name": "python3"
  },
  "language_info": {
   "codemirror_mode": {
    "name": "ipython",
    "version": 3
   },
   "file_extension": ".py",
   "mimetype": "text/x-python",
   "name": "python",
   "nbconvert_exporter": "python",
   "pygments_lexer": "ipython3",
   "version": "3.7.6"
  }
 },
 "nbformat": 4,
 "nbformat_minor": 4
}
