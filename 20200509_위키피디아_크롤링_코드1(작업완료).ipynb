{
 "cells": [
  {
   "cell_type": "markdown",
   "metadata": {},
   "source": [
    "# 위키피디아(영문ver)에 한국 음식 리스트 검색 후 결과 크롤링"
   ]
  },
  {
   "cell_type": "code",
   "execution_count": 30,
   "metadata": {},
   "outputs": [
    {
     "name": "stderr",
     "output_type": "stream",
     "text": [
      "C:\\Users\\admin\\Anaconda3\\lib\\site-packages\\ipykernel_launcher.py:10: DeprecationWarning: use options instead of chrome_options\n",
      "  # Remove the CWD from sys.path while we load stuff.\n"
     ]
    }
   ],
   "source": [
    "from selenium import webdriver\n",
    "from bs4 import BeautifulSoup\n",
    "from selenium.webdriver.common.keys import Keys\n",
    "import re\n",
    "from urllib.request import urlopen\n",
    "\n",
    "\n",
    "options = webdriver.ChromeOptions()\n",
    "\n",
    "options.add_argument('window-size=1920x1080')\n",
    "\n",
    "driver = webdriver.Chrome('./chromedriver.exe', chrome_options=options)\n",
    "\n",
    "driver.get(\"https://en.wikipedia.org/wiki\")"
   ]
  },
  {
   "cell_type": "code",
   "execution_count": null,
   "metadata": {},
   "outputs": [],
   "source": [
    "food_in_english = \n",
    "[ 'galbigui', Grilled Ribs, \n",
    "'galchigui', Grilled Cutlassfish, \n",
    "'godeungeogui', Grilled Mackerel, \n",
    "'gopchanggui', Grilled Beef Small Intestine/Grilled Pork Small Intestine, \n",
    "'dakgalbi', Spicy Stir-fried Chicken,\n",
    "'deodeokgui', Grilled Deodeok,\n",
    "'tteokgalbi', Grilled Short Rib Patties, \n",
    "'bulgogi', Bulgogi, \n",
    "'samgyeopsal', Grilled Pork Belly, \n",
    "'jangeogui', Grilled Eel,\n",
    "'jogaegui', Grilled Clams,\n",
    "'jogigui', Grilled Yellow Croaker,\n",
    "'hwangtaegui', Grilled Dried Pollack,\n",
    "'hunjeori', Smoked Duck,\n",
    "'계란국', ''\n",
    "'tteokguk', Sliced Rice Cake Soup,\n",
    "'mandutguk', Dumpling Soup,\n",
    "'muguk', Radish Soup,\n",
    "'miyeokguk', Seaweed Soup,\n",
    "'bugeotguk', Dried Pollack Soup,\n",
    "'siraegiguk', Dried Radish Leaf Soup-,\n",
    "'yukgaejang', Spicy Beef Soup,\n",
    "'kongnamulguk', Bean Sprout Soup,\n",
    "'gwamegi', Half-dried Saury,\n",
    "'yangnyeomchicken', Seasoned Fried Chicken,\n",
    "'jeotgal', Salted Seafood,\n",
    "'콩자반', ''\n",
    "'pyeonyuk', Boiled Meat Slices,\n",
    "'friedchicken', Fried Chicken,\n",
    "'gatkimchi', Leaf Mustard Kimchi,\n",
    "'kkakdugi', Diced Radish Kimchi,\n",
    "'nabakkimchi', Water Kimchi,\n",
    "'musaengchae', Julienne Radish Fresh Salad,\n",
    "'baechukimchi', Kimchi,\n",
    "'baekkimchi', White Kimchi,\n",
    "'buchukimchi', Chive Kimchi,\n",
    "'yeolmukimchi', Young Summer Radish Kimchi,\n",
    "'oisobagi', Cucumber Kimchi, \n",
    "'chonggakkimchi', Whole Radish Kimchi,\n",
    "'pakimchi', Green Onion Kimchi,\n",
    "'gajibokkeum', Stir-fried Eggplant,\n",
    "'gosarinamul', Bracken Salad,\n",
    "'miyeokjulgibokkeum', Stir-fried Seaweed Stems,\n",
    "'sukjunamul', Mung Bean Sprout Salad,\n",
    "'sigeumchinamul', Spinach Salad,\n",
    "'aehobakbokkeum'-, Stir-fried Zucchini-,\n",
    "'gyeongdan', Sweet Rice Balls\t,\n",
    "'kkultteok', Rice Cake with Honey Filling,\n",
    "'songpyeon', Half-moon Rice Cake,\n",
    "'mandu', Dumpling,\n",
    "'ramyeon', Instant Noodles,\n",
    "'makguksu', Buckwheat Noodles,\n",
    "'mulnaengmyeon', Cold Buckwheat Noodles,\n",
    "'bibimnaengmyeon', Spicy Buckwheat Noodles,\n",
    "'sujebi', Hand-pulled Dough Soup,\n",
    "'yeolmuguksu', Young Summer Radish Kimchi Noodles,\n",
    "'janchiguksu', Banquet Noodles,\n",
    "'jajangmyeon', Noodles in Black Bean Sauce,\n",
    "'jjamppong', Spicy Seafood Noodle Soup,\n",
    "'jjolmyeon', Spicy Chewy Noodles, \n",
    "'kalguksu', Noodle Soup,\n",
    "'kongguksu', Noodles in Cold Soybean Soup,\n",
    "'꽈리고추무침', ''\n",
    "'dorajimuchim', Bellflower Root Salad,\n",
    "'dotorimuk', Acorn Jelly Salad,\n",
    "'japchae', Stir-fried Glass Noodles and Vegetables,\n",
    "'kongnamulmuchim', Bean Sprout Salad\t,\n",
    "'hongeomuchim', Sliced Raw Skate Salad,\n",
    "'hoemuchim', Spicy Raw Fish Salad, \n",
    "'gimbap', Gimbap,\n",
    "'kimchibokkeumbap', Kimchi Fried Rice,\n",
    "'nurungji', Scorched Rice,\n",
    "'bibimbap', Bibimbap,\n",
    "'saeubokkeumbap', Shrimp Fried Rice,\n",
    "'albap', Fish Roe Rice,\n",
    "'yubuchobap', Fried Bean Curd Riceball,\n",
    "'japgokbap', Steamed Multi-grain Rice,\n",
    "'jumeokbap', Riceball,\n",
    "'gamjachaebokkeum', Stir-fried Shredded Potatoes,\n",
    "'geonsaeubokkeum', Stir-fried Dried Shrimp,\n",
    "'고추장진미채볶음', ''\n",
    "'dubukimchi', Bean Curd with Stir-fried Kimchi,\n",
    "'tteokbokki', Stir-fried Rice Cake, \n",
    "'rabokki', Stir-fried Instant Noodles,\n",
    "'myeolchibokkeum'-, Stir-fried Dried Anchovies-,\n",
    "'sausagebokkeum'-, Stir-fried Sausage-,\n",
    "'eomukbokkeum', Stir-fried Fishcake,\n",
    "'ojingeochaebokkeum', Stir-fried Dried Squid Strips, \n",
    "'jeyukbokkeum', Spicy Stir-fried Pork,\n",
    "'jukkumibokkeum', Stir-fried Webfoot Octopus,\n",
    "'bossam', Napa Wraps with Pork,\n",
    "'sujeonggwa', Cinnamon Punch,\n",
    "'sikhye', Sweet Rice Punch,\n",
    "'ganjanggejang', Soy Sauce Marinated Crab,\n",
    "'yangnyeomgejang', Spicy Marinated Crab,\n",
    "'깻잎장아찌', ''\n",
    "'tteokkkochi'-, Rice Cake Skewers-,\n",
    "'gamjajeon'-, Potato Pancake-,\n",
    "'gyeranmari', Rolled Omelet, \n",
    "'gyeranfry', Fried Egg, \n",
    "'kimchijeon', Kimchi Pancake, \n",
    "'dongeurangttaeng', Meat Fritters,\n",
    "'saengseonjeon', Pan-fried Battered Fish Fillet,\n",
    "'pajeon', Green Onion Pancake,\n",
    "'hobakjeon', Pan-fried Battered Zucchini,\n",
    "'gopchangjeongol', Beef Small Intestine Hot Pot/Pork Small Intestine Hot Pot, \n",
    "'galchijorim', Braised Cutlassfish,\n",
    "'gamjajorim', Braised Potatoes,\n",
    "'godeungeojorim', Braised Mackerel,\n",
    "'kkongchijorim'-, Braised Dried Saury-,\n",
    "'dubujorim', Braised Bean Curd,\n",
    "'ttangkongjorim', Braised Peanuts,\n",
    "'mechurialjangjorim', Quail Eggs in Soy Sauce, \n",
    "'yeongeunjorim', Braised Lotus Roots, \n",
    "'ueongjorim', Braised Burdock Roots, \n",
    "'jangjorim', Braised Beef in Soy Sauce, \n",
    "'kodarijorim', Braised Half-dried Pollack, \n",
    "'jeonbokjuk', Abalone Porridge,\n",
    "'hobakjuk', Pumpkin Porridge, \n",
    "'kimchijjigae', Kimchi Stew, \n",
    "'dakgyejang', Spicy Chicken Soup, \n",
    "'dongtaejjigae', Pollack Stew,\n",
    "'doenjangjjigae', Soybean Paste Stew,\n",
    "'sundubujjigae', Soft Bean Curd Stew,\n",
    "'galbijjim', Braised Short Ribs, \n",
    "'gyeranjjim', Steamed Eggs, \n",
    "'kimchijjim', Braised Kimchi, \n",
    "'kkomakjjim', Steamed Cockles, \n",
    "'dakbokkeumtang', Spicy Braised Chicken, \n",
    "'suyuk', Boiled Pork Slices, \n",
    "'sundae', Blood Sausage, \n",
    "'jokbal', Braised Pigs' Feet,\n",
    "'jjimdak', Braised Chicken, \n",
    "'haemuljjim', Spicy Braised Seafood, \n",
    "'galbitang', Short Rib Soup, \n",
    "'gamjatang', Pork Back-bone Stew,\n",
    "'gomguk'-, Beef Bone Soup, \n",
    "'seolleongtang', Ox Bone Soup, \n",
    "'maeuntang', Spicy Fish Stew, \n",
    "'samgyetang', Ginseng Chicken Soup, \n",
    "'chueotang', Loach Soup, \n",
    "'고추튀김', ''\n",
    "'saeutwigim', Deep-fried Shrimp, \n",
    "'ojingeotwigim', Deep-fried Squid, \n",
    "'yakgwa', Honey Cookie, \n",
    "'yaksik', Sweet Rice with Nuts and Jujubes, \n",
    "'hangwa', Traditional Korean Sweets, \n",
    "'meongge', Sea Squirt, \n",
    "'sannakji', Live Octopus, \n",
    "'mulhoe', Cold Raw Fish Soup, \n",
    "'yukhoe', Beef Tartare]"
   ]
  },
  {
   "cell_type": "code",
   "execution_count": null,
   "metadata": {},
   "outputs": [],
   "source": [
    "# english_in_food[:2]"
   ]
  },
  {
   "cell_type": "code",
   "execution_count": null,
   "metadata": {},
   "outputs": [],
   "source": []
  },
  {
   "cell_type": "code",
   "execution_count": null,
   "metadata": {},
   "outputs": [],
   "source": []
  },
  {
   "cell_type": "code",
   "execution_count": null,
   "metadata": {},
   "outputs": [],
   "source": []
  },
  {
   "cell_type": "markdown",
   "metadata": {},
   "source": [
    "\n",
    "\n",
    "\n",
    "\n",
    "- ------- test --------- "
   ]
  },
  {
   "cell_type": "code",
   "execution_count": null,
   "metadata": {},
   "outputs": [],
   "source": [
    "food = list()\n",
    "n = len(food)/2\n",
    "for food_eng in food_in_english[2*n-1]: \n",
    "    driver.find_element_by_name(\"search\").send_keys(food_eng)\n",
    "    driver.find_element_by_css_selector('#searchButton').click()\n",
    "\n",
    "    soup = BeautifulSoup(urlopen(\"https://en.wikipedia.org/wiki/\"+food_eng), \"html.parser\")\n",
    "\n",
    "    if food_eng = re.match('[a-zA-Z]+', food_eng) :\n",
    "        for exp in soup.find_all(\"p\")[:2] :\n",
    "            explaination = exp.get_text()\n",
    "            if 'No results found for' or 'not exist' in explaination :\n",
    "                food.append('not exist.')\n",
    "            elif exp < 2 : \n",
    "                food.append(explaination)\n",
    "            elif :\n",
    "                food.append(explaination)\n",
    "\n",
    "    else : \n",
    "        food.append('no word')"
   ]
  },
  {
   "cell_type": "code",
   "execution_count": null,
   "metadata": {},
   "outputs": [],
   "source": [
    "food "
   ]
  },
  {
   "cell_type": "code",
   "execution_count": 21,
   "metadata": {},
   "outputs": [],
   "source": [
    "driver.find_element_by_name(\"search\").send_keys('galbi')\n",
    "driver.find_element_by_css_selector('#searchButton').click()"
   ]
  },
  {
   "cell_type": "code",
   "execution_count": 100,
   "metadata": {},
   "outputs": [],
   "source": [
    "soup = BeautifulSoup(urlopen(\"https://en.wikipedia.org/wiki/galbi\"), \"html.parser\")\n",
    "galbi = list()\n",
    "for word1 in soup.find_all(\"p\")[:2] :\n",
    "    word = word1.get_text()\n",
    "    galbi.append(word)\n",
    "    \n",
    "    # 참고 : https://medium.com/@nsh235482/python-selenium%EC%9C%BC%EB%A1%9C-%EC%9B%B9%EC%82%AC%EC%9D%B4%ED%8A%B8-%ED%81%AC%EB%A1%A4%EB%A7%81%ED%95%98%EA%B8%B0-3-%EB%8D%B0%EC%9D%B4%ED%84%B0-%ED%8C%8C%EC%8B%B1-383f2f72e8f4\n",
    "\n",
    "# param1 = re.findall(\"[0-9]{5}\", str(key))\n",
    "# param2 = re.findall(\"[A-Z]{1}[0-9]{3}\", str(key))\n",
    "\n",
    "# link = soup.findAll(\"p\")[:2]\n",
    "# link\n",
    "\n",
    "# text = link('p').get_text()\n",
    "# text"
   ]
  },
  {
   "cell_type": "code",
   "execution_count": 102,
   "metadata": {},
   "outputs": [
    {
     "data": {
      "text/plain": [
       "['Galbi[1] (갈비), galbi-gui[1] (갈비구이), or grilled ribs[1] is a type of gui (grilled dish) in Korean cuisine. \"Galbi\" is the Korean word for \"rib\", and the dish is usually made with beef short ribs. When pork spareribs or another meat is used instead, the dish is named accordingly. Galbi is served raw, then cooked on tabletop grills usually by the diners themselves.[2] The dish may be marinated in a sweet and savory sauce usually containing soy sauce, garlic, and sugar. Both non-marinated and marinated galbi are often featured in Korean barbecue.[3]\\n',\n",
       " 'Traditionally, galbi is cut to expose one smooth bone along the short edge with the meat uniformly filleted in flat layers.\\n',\n",
       " 'An alternative cut, \"LA galbi\", features cut bones peeking out along the long edge. The method was developed by  Korean immigrants in Los Angeles to accommodate the thinner rib-eye cut preferred by American butchers.[4][5] The variation, which enables the marinade to penetrate the meat faster, has since made its way back to South Korea. Non-marinated galbi is called saeng-galbi (생갈비; \"fresh ribs\"); marinated galbi is referred to as yangnyeom-galbi (양념갈비; \"seasoned ribs\"). Pork galbi is usually served marinated, but non-marinated dwaeji-saeng-galbi (돼지생갈비; \"fresh pork ribs\") made of Jeju Black pig is popular in Jeju Island.[6] As pork ribs are smaller, marinated dwaeji-galbi often consists of pork ribs mixed with shoulder meats.[7]\\n',\n",
       " 'Softer cuts of beef, such as from a cow or heifer, are preferred when grilling galbi.[8][9] Properly grilled, the dish is a glossy, dark-reddish brown with a smoky, sweet taste.[8] The meat should easily fall from the bones.[8]\\n',\n",
       " 'The marinade for so-galbi-gui (소갈비구이; \"grilled beef ribs\") typically includes soy sauce, sugar, minced garlic and scallions, ginger juice, ground black pepper, toasted and ground sesame, and sesame oil. The beef is usually scored on the surface prior to marinating, and the juice from Korean pears is brushed on before grilling.[9]\\n']"
      ]
     },
     "execution_count": 102,
     "metadata": {},
     "output_type": "execute_result"
    }
   ],
   "source": [
    "galbi"
   ]
  },
  {
   "cell_type": "code",
   "execution_count": 103,
   "metadata": {},
   "outputs": [
    {
     "data": {
      "text/plain": [
       "list"
      ]
     },
     "execution_count": 103,
     "metadata": {},
     "output_type": "execute_result"
    }
   ],
   "source": [
    "type(galbi)"
   ]
  },
  {
   "cell_type": "code",
   "execution_count": null,
   "metadata": {},
   "outputs": [],
   "source": []
  },
  {
   "cell_type": "code",
   "execution_count": null,
   "metadata": {},
   "outputs": [],
   "source": []
  },
  {
   "cell_type": "code",
   "execution_count": null,
   "metadata": {},
   "outputs": [],
   "source": []
  },
  {
   "cell_type": "code",
   "execution_count": null,
   "metadata": {},
   "outputs": [],
   "source": []
  }
 ],
 "metadata": {
  "kernelspec": {
   "display_name": "Python 3",
   "language": "python",
   "name": "python3"
  },
  "language_info": {
   "codemirror_mode": {
    "name": "ipython",
    "version": 3
   },
   "file_extension": ".py",
   "mimetype": "text/x-python",
   "name": "python",
   "nbconvert_exporter": "python",
   "pygments_lexer": "ipython3",
   "version": "3.7.6"
  }
 },
 "nbformat": 4,
 "nbformat_minor": 2
}
