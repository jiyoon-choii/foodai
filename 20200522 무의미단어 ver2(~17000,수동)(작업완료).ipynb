{
 "cells": [
  {
   "cell_type": "markdown",
   "metadata": {},
   "source": [
    "## 단어 빈도수대로 "
   ]
  },
  {
   "cell_type": "markdown",
   "metadata": {},
   "source": [
    "# 여기부터 "
   ]
  },
  {
   "cell_type": "code",
   "execution_count": null,
   "metadata": {},
   "outputs": [],
   "source": [
    "- ~ df['review'][:17000]_상위5000개\n",
    "# 국가"
   ]
  },
  {
   "cell_type": "code",
   "execution_count": null,
   "metadata": {},
   "outputs": [],
   "source": [
    "stop2 = [\n",
    "    '.',',','a','to','it','is','was','the','we','!','place','so','that','be',\n",
    "    '(','one','us','also','this','when','an','ing','me','-','they','even',\n",
    "    'lunch','than','...',\"''\",'you','got',':','take','ever','seoul','2',\"''\",'and',\n",
    "    'he','all','having','think','am','3','near','?','english','waiter','said','waitress',\n",
    "    '&','decided','ate','his',':','5','our','thing','$','victoria','sch','absolutely',\n",
    "    '4','set','10','told','after','why','definitely','thought','soon',\n",
    "    'hotel','floor','music','extremely','comes','had','brought','bring',\"''\",'lady',\n",
    "    'etc','building','maybe','saw','she','offer','able','6','business','number','waitress',\n",
    "    'swiches','won','items','room','beween','sit','getting','tell','--','option','sing',\n",
    "    '20,','use','30','finish','sat','only','..','ago','7','their','offered','waiters',\n",
    "    'finid','some','chef','bite','15','quiet','shop','reason','forward','glass',\n",
    "    'provided','yes','yet','host','self','elevator','both','turned','%','stuff',\n",
    "    'idea','read','him','shopping','then','fly','reading','ones','note','space',\n",
    "    'oh','met','store','8','taken','2nd','goes','clossed','staffs','months','life',\n",
    "    'while','leaving','100','bottle','month', 'its','came','market','eye','believe',\n",
    "    'considering','station','straingt','cut','stockholm','head','total','visited',\n",
    "    'suggest','behind','tap','establishm','cuts','\"','rush','hit','taking','office',\n",
    "    'ordered','owner''received','litery','man','needs','guy','buy','dine','surprisingly',\n",
    "    'manager','living','whenever','five','talking','since','offers','provide',\n",
    "    'watch','wear','12','previous','cafe','talk','checking','sun','crew','wow','\"',\n",
    "    'been','guys','noon','forget','colleagues','list','probably','moved','50',\n",
    "    'obviously','break','stumbled','#','suggested','stuffed','returned','directly',\n",
    "    'did','checked','ladies','exit','finishamong','girls','branch','version','takes','cup',\n",
    "    'giving','worry','shot','bars','unl''imited','pub','terms','portions','face',\n",
    "    'hospitality','accompanied','agree','chose'\n",
    "    '40s','testing','bible','calculator','2,700won','grabbed','22.30','anticipation',\n",
    "    'hahahaha','3,000won','consumer','2800','considerate','wonders','5000','insult',\n",
    "    'consume','hung','drawn','parked''room','board','related','booth','shoulder','ow','tolerance',\n",
    "    'uses','understaffed','flooring','ceramic','controlled','thingy','recesses','arms',\n",
    "    'struggling','630pm','dates','afterwards','licking','tremously','live''automaticy',\n",
    "    'mark','cigtte','katusa','painted','open','military','economical','reding',\n",
    "    'pet','exchange','immensely''16''front','do','gs',\n",
    "    'of','my',')','staff','or','meal','saw''over','bit','come',\"'\",'cooked','waitress',\n",
    "    'asked','choice','feel',';','selection','dining','meals','return','temple',\n",
    "    'husb','bar','start','felt','makes','cooking','trying','old','restaurant',\n",
    "    'leave','close','presed','rself','20','underst','menus','fectly','princess',\n",
    "    'icularly','dance','paulo','orial','orwise','oh','buddhist','condims',\n",
    "    'deal','selves','watching','compely','closed','heard','hope',\n",
    "    'spoon','get','at',\"'re\",'dine-in','august','aurant','intensely','참기름','고기구이',\n",
    "    \"'s\",'aurants','visit',\"'ve\",'ething','way','er','right',\"'m\",'especiy','son',\n",
    "    \"'d\",\"'ll\",'tasting','actuy','usuy','eone','highly','sign','elf','hs','stard',\n",
    "    'toger','ve','attion','diners','counter','pick','gas','addition','icular','very',\n",
    "    'answer','numerous','among','satur','shd','tastes','feeling','shoes','ers','holborn',\n",
    "    'by','moves','/','supposed','establishm','button','hed','sony','drop',\n",
    "    '9',\n",
    "]\n"
   ]
  },
  {
   "cell_type": "code",
   "execution_count": null,
   "metadata": {},
   "outputs": [],
   "source": [
    " # "
   ]
  },
  {
   "cell_type": "code",
   "execution_count": null,
   "metadata": {},
   "outputs": [],
   "source": [
    "stop3 = "
   ]
  },
  {
   "cell_type": "code",
   "execution_count": null,
   "metadata": {},
   "outputs": [],
   "source": [
    "# from nltk.stem.wordnet import WordNetLemmatizer\n",
    "# print(lemmatizer.lemmatize('cooking', pos='v'))\n",
    "\n",
    "출처: https://excelsior-cjh.tistory.com/67 [EXCELSIOR]"
   ]
  }
 ],
 "metadata": {
  "kernelspec": {
   "display_name": "Python 3",
   "language": "python",
   "name": "python3"
  },
  "language_info": {
   "codemirror_mode": {
    "name": "ipython",
    "version": 3
   },
   "file_extension": ".py",
   "mimetype": "text/x-python",
   "name": "python",
   "nbconvert_exporter": "python",
   "pygments_lexer": "ipython3",
   "version": "3.7.6"
  }
 },
 "nbformat": 4,
 "nbformat_minor": 2
}
